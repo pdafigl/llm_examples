{
 "cells": [
  {
   "cell_type": "markdown",
   "id": "fe12c203-e6a6-452c-a655-afb8a03a4ff5",
   "metadata": {},
   "source": [
    "# Ejercicio final de la semana 1\n",
    "\n",
    "Para demostrar que estás familiarizado con la API de OpenAI y también con Ollama, crea una herramienta que responda a una pregunta técnica\n",
    "y la explique. ¡Esta es una herramienta que podrás usar durante el curso!"
   ]
  },
  {
   "cell_type": "code",
   "execution_count": 1,
   "id": "c1070317-3ed9-4659-abe3-828943230e03",
   "metadata": {},
   "outputs": [],
   "source": [
    "# imports\n",
    "import os\n",
    "from dotenv import load_dotenv\n",
    "from IPython.display import Markdown, display, update_display\n",
    "from openai import OpenAI\n",
    "import ollama"
   ]
  },
  {
   "cell_type": "code",
   "execution_count": 2,
   "id": "4a456906-915a-4bfd-bb9d-57e505c5093f",
   "metadata": {},
   "outputs": [],
   "source": [
    "# constantes\n",
    "\n",
    "MODEL_GPT = 'gpt-4o-mini'\n",
    "MODEL_LLAMA = 'llama3.2'"
   ]
  },
  {
   "cell_type": "code",
   "execution_count": 3,
   "id": "a8d7923c-5f28-4c30-8556-342d7c8497c1",
   "metadata": {},
   "outputs": [
    {
     "name": "stdout",
     "output_type": "stream",
     "text": [
      "La clave de API parece buena\n"
     ]
    }
   ],
   "source": [
    "# Configura el entorno\n",
    "\n",
    "load_dotenv()\n",
    "\n",
    "# Carga variables de entorno \n",
    "# API Key OpenAI\n",
    "api_key = os.getenv('OPENAI_API_KEY')\n",
    "# Se comrpueba si la clave tiene un formato esperado, y en ese caso, se crea un objeto \n",
    "if api_key and api_key[:8]=='sk-proj-':\n",
    "    print(\"La clave de API parece buena\")\n",
    "    # Crea el objeto de OpenAI\n",
    "    openai = OpenAI()\n",
    "else:\n",
    "    print(\"¿Puede haber un problema con tu clave API? ¡Visita el cuaderno de resolución de problemas!\")\n",
    "    \n",
    "# API URL de Ollama y Headers\n",
    "OLLAMA_API = os.getenv('OLLAMA_API')\n",
    "HEADERS = os.getenv('OLLAMA_HEADERS')\n",
    "\n"
   ]
  },
  {
   "cell_type": "code",
   "execution_count": 4,
   "id": "3f0d0137-52b0-47a8-81a8-11a90a010798",
   "metadata": {},
   "outputs": [],
   "source": [
    "# Aquí está la pregunta; escribe sobre esto para preguntar algo nuevo\n",
    "\n",
    "question = \"\"\"\n",
    "Explica qué hace este código y por qué:\n",
    "yield from {book.get(\"author\") for book in books if book.get(\"author\")}\n",
    "\"\"\""
   ]
  },
  {
   "cell_type": "code",
   "execution_count": 5,
   "id": "af6cd9a6-72b1-483b-8820-f4689f0021e0",
   "metadata": {},
   "outputs": [],
   "source": [
    "# prompts\n",
    "system_prompt = \"Eres un tutor especializado en desarrollo de aplicaciones en código Python, ingeniería de software, ciencia de datos, procesos de analítica de datos\"\n",
    "user_prompt = \"Por favor, explica la siguiente pregunta sobre un código: \" + question"
   ]
  },
  {
   "cell_type": "code",
   "execution_count": 6,
   "id": "9de41054-1bf8-4bc0-8bd6-2c43d9717c92",
   "metadata": {},
   "outputs": [],
   "source": [
    "# messages\n",
    "messages = [\n",
    "    {\"role\": \"system\", \"content\": system_prompt},\n",
    "    {\"role\": \"user\", \"content\": user_prompt}\n",
    "]"
   ]
  },
  {
   "cell_type": "code",
   "execution_count": 7,
   "id": "60ce7000-a4a5-4cce-a261-e75ef45063b4",
   "metadata": {},
   "outputs": [
    {
     "data": {
      "text/markdown": [
       "El código que presentaste utiliza la expresión `yield from`, junto con una comprensión de conjunto, para extraer y devolver una lista de autores de un conjunto de libros. Te explicaré cada parte del código:\n",
       "\n",
       "1. **Comprensión de conjunto**: \n",
       "   python\n",
       "   {book.get(\"author\") for book in books if book.get(\"author\")}\n",
       "   \n",
       "   Esta parte del código crea un conjunto (set) de autores. Aquí está desglosado:\n",
       "   - `for book in books`: itera sobre una colección llamada `books`, que se supone que es una lista (o alguna otra colección) de diccionarios, donde cada diccionario representa un libro.\n",
       "   - `book.get(\"author\")`: extrae el valor asociado con la clave `\"author\"` de cada diccionario `book`. Este método se utiliza para evitar un `KeyError` en caso de que la clave no exista; retornará `None` en su lugar.\n",
       "   - `if book.get(\"author\")`: esta condición garantiza que solo se incluyan en el conjunto aquellos autores que no son `None` o que existen (es decir, los libros que efectivamente tienen un autor definido). \n",
       "\n",
       "   Como resultado, la comprensión de conjunto devolverá un conjunto de todos los autores distintos que están disponibles en la lista de libros.\n",
       "\n",
       "2. **`yield from`**:\n",
       "   python\n",
       "   yield from <expresión>\n",
       "   \n",
       "   Esta parte indica que el código está dentro de una función generadora. La instrucción `yield from` se utiliza para delegar la producción de valores a otro generador o iterable. Al usar `yield from` con el conjunto de autores, el generador devolverá cada autor uno por uno a quien consume el generador, en vez de devolver todo el conjunto de una vez.\n",
       "\n",
       "### Resumen\n",
       "En resumen, el código hace lo siguiente:\n",
       "- Extrae los autores de una lista de libros, asegurándose de que solo se incluyan los autores que existen (no `None`).\n",
       "- Devuelve cada autor de forma individual utilizando un generador, lo que permite que el consumo de estos autores sea eficiente, ya que no se necesita crear una lista completa en memoria antes de devolver los resultados.\n",
       "\n",
       "Este enfoque es útil para mantener bajo control el uso de memoria y permitir una procesamiento más fluido cuando se trabaja con grandes colecciones de datos."
      ],
      "text/plain": [
       "<IPython.core.display.Markdown object>"
      ]
     },
     "metadata": {},
     "output_type": "display_data"
    }
   ],
   "source": [
    "# Haz que gpt-4o-mini responda, con streaming\n",
    "\n",
    "stream = openai.chat.completions.create(model=MODEL_GPT, messages=messages,stream=True)\n",
    "    \n",
    "response = \"\"\n",
    "display_handle = display(Markdown(\"\"), display_id=True)\n",
    "for chunk in stream:\n",
    "    response += chunk.choices[0].delta.content or ''\n",
    "    response = response.replace(\"```\",\"\").replace(\"markdown\", \"\")\n",
    "    update_display(Markdown(response), display_id=display_handle.display_id)"
   ]
  },
  {
   "cell_type": "code",
   "execution_count": 8,
   "id": "8f7c8ea8-4082-4ad0-8751-3301adcf6538",
   "metadata": {},
   "outputs": [
    {
     "data": {
      "text/markdown": [
       "¡Claro! Este código utiliza una combinación de técnicas de generación de datos y filtrado en Python.\n",
       "\n",
       "**Análisis del código**\n",
       "\n",
       "El código se compone de dos partes principales:\n",
       "\n",
       "1. `yield from`: es una función que permite filtrar y generar los elementos de un iterador genérico.\n",
       "2. `{book.get(\"author\") for book in books if book.get(\"author\")}`: es una expresión generadora que filtra y transforma los datos.\n",
       "\n",
       "**¿Qué hace el código?**\n",
       "\n",
       "El código busca todos los autores de libros en la lista `books` que tengan un valor válido para el campo `\"author\"`. El resultado se devuelve como una secuencia genérica que puede ser procesado por algún consumidor (por ejemplo, otro generador o una función).\n",
       "\n",
       "Aquí hay una explicación paso a paso:\n",
       "\n",
       "1. La expresión `{book.get(\"author\") for book in books if book.get(\"author\")}` es una generadora que:\n",
       "\t* Itera sobre la lista `books`.\n",
       "\t* Para cada libro (`book`), utiliza el método `get()` para obtener el valor del campo `\"author\"`. Si el campo no existe o no tiene un valor válido, se devuelve `None`.\n",
       "2. El resultado de esta expresión es una secuencia genérica que contiene solo los valores válidos del campo `\"author\"`. Por ejemplo: `[\"John Doe\", \"Jane Smith\"]`\n",
       "3. La función `yield from` toma la secuencia genérica resultante y la transforma en un iterador genérico. Esto significa que, en lugar de devolver una lista o otro tipo de colección, se devuelve una estructura genérica que puede ser procesada para obtener los resultados finales.\n",
       "\n",
       "**Por qué funciona el código?**\n",
       "\n",
       "El código funciona porque utiliza técnicas de generación de datos y filtrado para crear un resultado eficiente. Al utilizar `yield from`, el código evita la necesidad de almacenar todos los valores en una lista intermedia, lo que puede ahorrar memoria y mejorar el rendimiento.\n",
       "\n",
       "Además, al utilizar la expresión generadora `{book.get(\"author\") for book in books if book.get(\"author\")}`, el código filtra y transforma los datos de manera eficiente, sin necesidad de crear un iterador adicional o realizar operaciones adicionales."
      ],
      "text/plain": [
       "<IPython.core.display.Markdown object>"
      ]
     },
     "metadata": {},
     "output_type": "display_data"
    }
   ],
   "source": [
    "# Haz que Llama 3.2 responda\n",
    "\n",
    "response = ollama.chat(model=MODEL_LLAMA, messages=messages)\n",
    "reply = response['message']['content']\n",
    "display(Markdown(reply))"
   ]
  },
  {
   "cell_type": "code",
   "execution_count": null,
   "id": "563b9b13-3380-487e-87eb-13a76ed33dbb",
   "metadata": {},
   "outputs": [],
   "source": []
  }
 ],
 "metadata": {
  "kernelspec": {
   "display_name": "Python 3 (ipykernel)",
   "language": "python",
   "name": "python3"
  },
  "language_info": {
   "codemirror_mode": {
    "name": "ipython",
    "version": 3
   },
   "file_extension": ".py",
   "mimetype": "text/x-python",
   "name": "python",
   "nbconvert_exporter": "python",
   "pygments_lexer": "ipython3",
   "version": "3.10.12"
  }
 },
 "nbformat": 4,
 "nbformat_minor": 5
}
